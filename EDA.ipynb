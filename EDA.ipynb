{
 "cells": [
  {
   "cell_type": "code",
   "execution_count": 1,
   "metadata": {},
   "outputs": [],
   "source": [
    "import pandas as pd\n",
    "import numpy as np\n",
    "import matplotlib.pyplot as plt"
   ]
  },
  {
   "cell_type": "markdown",
   "metadata": {},
   "source": [
    "Reading in the data "
   ]
  },
  {
   "cell_type": "code",
   "execution_count": 30,
   "metadata": {},
   "outputs": [],
   "source": [
    "items = pd.read_csv('data.csv')"
   ]
  },
  {
   "cell_type": "code",
   "execution_count": 3,
   "metadata": {},
   "outputs": [
    {
     "name": "stdout",
     "output_type": "stream",
     "text": [
      "(705857, 9)\n"
     ]
    },
    {
     "data": {
      "text/html": [
       "<div>\n",
       "<style scoped>\n",
       "    .dataframe tbody tr th:only-of-type {\n",
       "        vertical-align: middle;\n",
       "    }\n",
       "\n",
       "    .dataframe tbody tr th {\n",
       "        vertical-align: top;\n",
       "    }\n",
       "\n",
       "    .dataframe thead th {\n",
       "        text-align: right;\n",
       "    }\n",
       "</style>\n",
       "<table border=\"1\" class=\"dataframe\">\n",
       "  <thead>\n",
       "    <tr style=\"text-align: right;\">\n",
       "      <th></th>\n",
       "      <th>store_number</th>\n",
       "      <th>item_number</th>\n",
       "      <th>date</th>\n",
       "      <th>number_of_item_on_file</th>\n",
       "      <th>cant_find_times_this_month</th>\n",
       "      <th>weekly_sales</th>\n",
       "      <th>item_category</th>\n",
       "      <th>store_type</th>\n",
       "      <th>in_store_flag</th>\n",
       "    </tr>\n",
       "  </thead>\n",
       "  <tbody>\n",
       "    <tr>\n",
       "      <th>0</th>\n",
       "      <td>1911</td>\n",
       "      <td>9224620</td>\n",
       "      <td>2020-11-24</td>\n",
       "      <td>28</td>\n",
       "      <td>2</td>\n",
       "      <td>40.791665</td>\n",
       "      <td>BAG PASTA</td>\n",
       "      <td>SC</td>\n",
       "      <td>True</td>\n",
       "    </tr>\n",
       "    <tr>\n",
       "      <th>1</th>\n",
       "      <td>148</td>\n",
       "      <td>563046559</td>\n",
       "      <td>2020-11-12</td>\n",
       "      <td>7</td>\n",
       "      <td>1</td>\n",
       "      <td>0.458333</td>\n",
       "      <td>BAKING MIXES</td>\n",
       "      <td>SC</td>\n",
       "      <td>False</td>\n",
       "    </tr>\n",
       "    <tr>\n",
       "      <th>2</th>\n",
       "      <td>1052</td>\n",
       "      <td>555089121</td>\n",
       "      <td>2020-11-12</td>\n",
       "      <td>11</td>\n",
       "      <td>1</td>\n",
       "      <td>10.633334</td>\n",
       "      <td>COLD CEREAL</td>\n",
       "      <td>SC</td>\n",
       "      <td>True</td>\n",
       "    </tr>\n",
       "    <tr>\n",
       "      <th>3</th>\n",
       "      <td>3317</td>\n",
       "      <td>565914006</td>\n",
       "      <td>2020-11-18</td>\n",
       "      <td>16</td>\n",
       "      <td>5</td>\n",
       "      <td>23.283333</td>\n",
       "      <td>SUGAR</td>\n",
       "      <td>SC</td>\n",
       "      <td>True</td>\n",
       "    </tr>\n",
       "    <tr>\n",
       "      <th>4</th>\n",
       "      <td>2465</td>\n",
       "      <td>563007859</td>\n",
       "      <td>2020-11-19</td>\n",
       "      <td>14</td>\n",
       "      <td>2</td>\n",
       "      <td>4.216667</td>\n",
       "      <td>BAKING MIXES</td>\n",
       "      <td>SC</td>\n",
       "      <td>True</td>\n",
       "    </tr>\n",
       "  </tbody>\n",
       "</table>\n",
       "</div>"
      ],
      "text/plain": [
       "   store_number  item_number        date  number_of_item_on_file  \\\n",
       "0          1911      9224620  2020-11-24                      28   \n",
       "1           148    563046559  2020-11-12                       7   \n",
       "2          1052    555089121  2020-11-12                      11   \n",
       "3          3317    565914006  2020-11-18                      16   \n",
       "4          2465    563007859  2020-11-19                      14   \n",
       "\n",
       "   cant_find_times_this_month  weekly_sales item_category store_type  \\\n",
       "0                           2     40.791665     BAG PASTA         SC   \n",
       "1                           1      0.458333  BAKING MIXES         SC   \n",
       "2                           1     10.633334   COLD CEREAL         SC   \n",
       "3                           5     23.283333         SUGAR         SC   \n",
       "4                           2      4.216667  BAKING MIXES         SC   \n",
       "\n",
       "   in_store_flag  \n",
       "0           True  \n",
       "1          False  \n",
       "2           True  \n",
       "3           True  \n",
       "4           True  "
      ]
     },
     "execution_count": 3,
     "metadata": {},
     "output_type": "execute_result"
    }
   ],
   "source": [
    "print(items.shape)\n",
    "items.head()"
   ]
  },
  {
   "cell_type": "code",
   "execution_count": 4,
   "metadata": {},
   "outputs": [
    {
     "data": {
      "text/plain": [
       "store_number                    int64\n",
       "item_number                     int64\n",
       "date                           object\n",
       "number_of_item_on_file          int64\n",
       "cant_find_times_this_month      int64\n",
       "weekly_sales                  float64\n",
       "item_category                  object\n",
       "store_type                     object\n",
       "in_store_flag                    bool\n",
       "dtype: object"
      ]
     },
     "execution_count": 4,
     "metadata": {},
     "output_type": "execute_result"
    }
   ],
   "source": [
    "#column types\n",
    "items.dtypes"
   ]
  },
  {
   "cell_type": "code",
   "execution_count": 5,
   "metadata": {},
   "outputs": [
    {
     "data": {
      "text/plain": [
       "store_number                   4229\n",
       "item_number                   17182\n",
       "date                             29\n",
       "number_of_item_on_file         1169\n",
       "cant_find_times_this_month       26\n",
       "weekly_sales                   2898\n",
       "item_category                    68\n",
       "store_type                        2\n",
       "in_store_flag                     2\n",
       "dtype: int64"
      ]
     },
     "execution_count": 5,
     "metadata": {},
     "output_type": "execute_result"
    }
   ],
   "source": [
    "#unique values per column\n",
    "items.nunique()"
   ]
  },
  {
   "cell_type": "code",
   "execution_count": 6,
   "metadata": {},
   "outputs": [
    {
     "data": {
      "text/plain": [
       "store_number                    0\n",
       "item_number                     0\n",
       "date                            0\n",
       "number_of_item_on_file          0\n",
       "cant_find_times_this_month      0\n",
       "weekly_sales                  126\n",
       "item_category                 470\n",
       "store_type                      0\n",
       "in_store_flag                   0\n",
       "dtype: int64"
      ]
     },
     "execution_count": 6,
     "metadata": {},
     "output_type": "execute_result"
    }
   ],
   "source": [
    "#Looking for missing data\n",
    "items.isnull().sum()"
   ]
  },
  {
   "cell_type": "code",
   "execution_count": null,
   "metadata": {},
   "outputs": [],
   "source": [
    "#126 missing weekly sales, 470 missing item_category"
   ]
  },
  {
   "cell_type": "code",
   "execution_count": null,
   "metadata": {},
   "outputs": [],
   "source": [
    "#exploring missing weekly sales"
   ]
  },
  {
   "cell_type": "code",
   "execution_count": 31,
   "metadata": {},
   "outputs": [],
   "source": [
    "missing_sales = items[items['weekly_sales'].isnull()]"
   ]
  },
  {
   "cell_type": "code",
   "execution_count": 8,
   "metadata": {},
   "outputs": [
    {
     "name": "stdout",
     "output_type": "stream",
     "text": [
      "(126, 9)\n",
      "store_number                  123\n",
      "item_number                   102\n",
      "date                           24\n",
      "number_of_item_on_file         39\n",
      "cant_find_times_this_month      5\n",
      "weekly_sales                    0\n",
      "item_category                   1\n",
      "store_type                      2\n",
      "in_store_flag                   2\n",
      "dtype: int64\n"
     ]
    }
   ],
   "source": [
    "print(missing_sales.shape) #126 rows\n",
    "print(missing_sales.nunique()) #only 1 item category"
   ]
  },
  {
   "cell_type": "code",
   "execution_count": 50,
   "metadata": {},
   "outputs": [
    {
     "data": {
      "text/html": [
       "<div>\n",
       "<style scoped>\n",
       "    .dataframe tbody tr th:only-of-type {\n",
       "        vertical-align: middle;\n",
       "    }\n",
       "\n",
       "    .dataframe tbody tr th {\n",
       "        vertical-align: top;\n",
       "    }\n",
       "\n",
       "    .dataframe thead th {\n",
       "        text-align: right;\n",
       "    }\n",
       "</style>\n",
       "<table border=\"1\" class=\"dataframe\">\n",
       "  <thead>\n",
       "    <tr style=\"text-align: right;\">\n",
       "      <th></th>\n",
       "      <th>store_number</th>\n",
       "      <th>item_number</th>\n",
       "      <th>date</th>\n",
       "      <th>number_of_item_on_file</th>\n",
       "      <th>cant_find_times_this_month</th>\n",
       "      <th>weekly_sales</th>\n",
       "      <th>item_category</th>\n",
       "      <th>store_type</th>\n",
       "      <th>in_store_flag</th>\n",
       "    </tr>\n",
       "  </thead>\n",
       "  <tbody>\n",
       "    <tr>\n",
       "      <th>13788</th>\n",
       "      <td>1181</td>\n",
       "      <td>550431572</td>\n",
       "      <td>2020-11-27</td>\n",
       "      <td>14</td>\n",
       "      <td>3</td>\n",
       "      <td>NaN</td>\n",
       "      <td>BAKING MIXES</td>\n",
       "      <td>SC</td>\n",
       "      <td>True</td>\n",
       "    </tr>\n",
       "    <tr>\n",
       "      <th>17640</th>\n",
       "      <td>1959</td>\n",
       "      <td>567146575</td>\n",
       "      <td>2020-11-05</td>\n",
       "      <td>7</td>\n",
       "      <td>1</td>\n",
       "      <td>NaN</td>\n",
       "      <td>BAKING MIXES</td>\n",
       "      <td>SC</td>\n",
       "      <td>True</td>\n",
       "    </tr>\n",
       "    <tr>\n",
       "      <th>33086</th>\n",
       "      <td>651</td>\n",
       "      <td>573175295</td>\n",
       "      <td>2020-11-05</td>\n",
       "      <td>12</td>\n",
       "      <td>1</td>\n",
       "      <td>NaN</td>\n",
       "      <td>BAKING MIXES</td>\n",
       "      <td>SC</td>\n",
       "      <td>False</td>\n",
       "    </tr>\n",
       "    <tr>\n",
       "      <th>36101</th>\n",
       "      <td>1057</td>\n",
       "      <td>563008158</td>\n",
       "      <td>2020-11-22</td>\n",
       "      <td>2</td>\n",
       "      <td>1</td>\n",
       "      <td>NaN</td>\n",
       "      <td>BAKING MIXES</td>\n",
       "      <td>SC</td>\n",
       "      <td>True</td>\n",
       "    </tr>\n",
       "    <tr>\n",
       "      <th>42023</th>\n",
       "      <td>3591</td>\n",
       "      <td>563008129</td>\n",
       "      <td>2020-11-05</td>\n",
       "      <td>34</td>\n",
       "      <td>1</td>\n",
       "      <td>NaN</td>\n",
       "      <td>BAKING MIXES</td>\n",
       "      <td>SC</td>\n",
       "      <td>True</td>\n",
       "    </tr>\n",
       "  </tbody>\n",
       "</table>\n",
       "</div>"
      ],
      "text/plain": [
       "       store_number  item_number        date  number_of_item_on_file  \\\n",
       "13788          1181    550431572  2020-11-27                      14   \n",
       "17640          1959    567146575  2020-11-05                       7   \n",
       "33086           651    573175295  2020-11-05                      12   \n",
       "36101          1057    563008158  2020-11-22                       2   \n",
       "42023          3591    563008129  2020-11-05                      34   \n",
       "\n",
       "       cant_find_times_this_month  weekly_sales item_category store_type  \\\n",
       "13788                           3           NaN  BAKING MIXES         SC   \n",
       "17640                           1           NaN  BAKING MIXES         SC   \n",
       "33086                           1           NaN  BAKING MIXES         SC   \n",
       "36101                           1           NaN  BAKING MIXES         SC   \n",
       "42023                           1           NaN  BAKING MIXES         SC   \n",
       "\n",
       "       in_store_flag  \n",
       "13788           True  \n",
       "17640           True  \n",
       "33086          False  \n",
       "36101           True  \n",
       "42023           True  "
      ]
     },
     "execution_count": 50,
     "metadata": {},
     "output_type": "execute_result"
    }
   ],
   "source": [
    "missing_sales.head() #baking mixes"
   ]
  },
  {
   "cell_type": "code",
   "execution_count": 32,
   "metadata": {},
   "outputs": [],
   "source": [
    "#avg of baking mixes weekly sales\n",
    "baking = items[items['item_category']=='BAKING MIXES']"
   ]
  },
  {
   "cell_type": "code",
   "execution_count": 10,
   "metadata": {},
   "outputs": [
    {
     "data": {
      "text/html": [
       "<div>\n",
       "<style scoped>\n",
       "    .dataframe tbody tr th:only-of-type {\n",
       "        vertical-align: middle;\n",
       "    }\n",
       "\n",
       "    .dataframe tbody tr th {\n",
       "        vertical-align: top;\n",
       "    }\n",
       "\n",
       "    .dataframe thead th {\n",
       "        text-align: right;\n",
       "    }\n",
       "</style>\n",
       "<table border=\"1\" class=\"dataframe\">\n",
       "  <thead>\n",
       "    <tr style=\"text-align: right;\">\n",
       "      <th></th>\n",
       "      <th>store_number</th>\n",
       "      <th>item_number</th>\n",
       "      <th>number_of_item_on_file</th>\n",
       "      <th>cant_find_times_this_month</th>\n",
       "      <th>weekly_sales</th>\n",
       "    </tr>\n",
       "  </thead>\n",
       "  <tbody>\n",
       "    <tr>\n",
       "      <th>count</th>\n",
       "      <td>32891.000000</td>\n",
       "      <td>3.289100e+04</td>\n",
       "      <td>32891.000000</td>\n",
       "      <td>32891.000000</td>\n",
       "      <td>32765.000000</td>\n",
       "    </tr>\n",
       "    <tr>\n",
       "      <th>mean</th>\n",
       "      <td>2702.520781</td>\n",
       "      <td>4.287716e+08</td>\n",
       "      <td>14.520021</td>\n",
       "      <td>1.550455</td>\n",
       "      <td>6.492960</td>\n",
       "    </tr>\n",
       "    <tr>\n",
       "      <th>std</th>\n",
       "      <td>1832.267577</td>\n",
       "      <td>2.379665e+08</td>\n",
       "      <td>26.325831</td>\n",
       "      <td>1.063148</td>\n",
       "      <td>10.440261</td>\n",
       "    </tr>\n",
       "    <tr>\n",
       "      <th>min</th>\n",
       "      <td>21.000000</td>\n",
       "      <td>9.204290e+06</td>\n",
       "      <td>1.000000</td>\n",
       "      <td>0.000000</td>\n",
       "      <td>-0.183333</td>\n",
       "    </tr>\n",
       "    <tr>\n",
       "      <th>25%</th>\n",
       "      <td>1196.000000</td>\n",
       "      <td>5.502136e+08</td>\n",
       "      <td>4.000000</td>\n",
       "      <td>1.000000</td>\n",
       "      <td>1.100000</td>\n",
       "    </tr>\n",
       "    <tr>\n",
       "      <th>50%</th>\n",
       "      <td>2342.000000</td>\n",
       "      <td>5.630079e+08</td>\n",
       "      <td>8.000000</td>\n",
       "      <td>1.000000</td>\n",
       "      <td>2.841667</td>\n",
       "    </tr>\n",
       "    <tr>\n",
       "      <th>75%</th>\n",
       "      <td>4077.000000</td>\n",
       "      <td>5.660463e+08</td>\n",
       "      <td>15.000000</td>\n",
       "      <td>2.000000</td>\n",
       "      <td>7.883333</td>\n",
       "    </tr>\n",
       "    <tr>\n",
       "      <th>max</th>\n",
       "      <td>8978.000000</td>\n",
       "      <td>5.769039e+08</td>\n",
       "      <td>1188.000000</td>\n",
       "      <td>26.000000</td>\n",
       "      <td>256.575000</td>\n",
       "    </tr>\n",
       "  </tbody>\n",
       "</table>\n",
       "</div>"
      ],
      "text/plain": [
       "       store_number   item_number  number_of_item_on_file  \\\n",
       "count  32891.000000  3.289100e+04            32891.000000   \n",
       "mean    2702.520781  4.287716e+08               14.520021   \n",
       "std     1832.267577  2.379665e+08               26.325831   \n",
       "min       21.000000  9.204290e+06                1.000000   \n",
       "25%     1196.000000  5.502136e+08                4.000000   \n",
       "50%     2342.000000  5.630079e+08                8.000000   \n",
       "75%     4077.000000  5.660463e+08               15.000000   \n",
       "max     8978.000000  5.769039e+08             1188.000000   \n",
       "\n",
       "       cant_find_times_this_month  weekly_sales  \n",
       "count                32891.000000  32765.000000  \n",
       "mean                     1.550455      6.492960  \n",
       "std                      1.063148     10.440261  \n",
       "min                      0.000000     -0.183333  \n",
       "25%                      1.000000      1.100000  \n",
       "50%                      1.000000      2.841667  \n",
       "75%                      2.000000      7.883333  \n",
       "max                     26.000000    256.575000  "
      ]
     },
     "execution_count": 10,
     "metadata": {},
     "output_type": "execute_result"
    }
   ],
   "source": [
    "baking.describe()"
   ]
  },
  {
   "cell_type": "code",
   "execution_count": 64,
   "metadata": {},
   "outputs": [
    {
     "data": {
      "text/plain": [
       "<matplotlib.axes._subplots.AxesSubplot at 0x1f1e4107748>"
      ]
     },
     "execution_count": 64,
     "metadata": {},
     "output_type": "execute_result"
    },
    {
     "data": {
      "image/png": "[encoded data removed]",
      "text/plain": [
       "<Figure size 432x288 with 1 Axes>"
      ]
     },
     "metadata": {
      "needs_background": "light"
     },
     "output_type": "display_data"
    }
   ],
   "source": [
    "#lets look at histogram of these sales\n",
    "baking.plot(y='weekly_sales',kind='hist')"
   ]
  },
  {
   "cell_type": "code",
   "execution_count": 14,
   "metadata": {},
   "outputs": [
    {
     "name": "stdout",
     "output_type": "stream",
     "text": [
      "0.01785064113552745\n"
     ]
    }
   ],
   "source": [
    "#doesn't make sense to impute values here, lets just drop rows with missing sales\n",
    "print((missing_sales.shape[0]/items.shape[0])*100) #0.01 % of total data"
   ]
  },
  {
   "cell_type": "code",
   "execution_count": 33,
   "metadata": {},
   "outputs": [],
   "source": [
    "#checking for missing item category\n",
    "missing_cat = items[items['item_category'].isnull()]"
   ]
  },
  {
   "cell_type": "code",
   "execution_count": 18,
   "metadata": {},
   "outputs": [
    {
     "name": "stdout",
     "output_type": "stream",
     "text": [
      "(470, 9)\n"
     ]
    },
    {
     "data": {
      "text/html": [
       "<div>\n",
       "<style scoped>\n",
       "    .dataframe tbody tr th:only-of-type {\n",
       "        vertical-align: middle;\n",
       "    }\n",
       "\n",
       "    .dataframe tbody tr th {\n",
       "        vertical-align: top;\n",
       "    }\n",
       "\n",
       "    .dataframe thead th {\n",
       "        text-align: right;\n",
       "    }\n",
       "</style>\n",
       "<table border=\"1\" class=\"dataframe\">\n",
       "  <thead>\n",
       "    <tr style=\"text-align: right;\">\n",
       "      <th></th>\n",
       "      <th>store_number</th>\n",
       "      <th>item_number</th>\n",
       "      <th>date</th>\n",
       "      <th>number_of_item_on_file</th>\n",
       "      <th>cant_find_times_this_month</th>\n",
       "      <th>weekly_sales</th>\n",
       "      <th>item_category</th>\n",
       "      <th>store_type</th>\n",
       "      <th>in_store_flag</th>\n",
       "    </tr>\n",
       "  </thead>\n",
       "  <tbody>\n",
       "    <tr>\n",
       "      <th>1653</th>\n",
       "      <td>1979</td>\n",
       "      <td>550142307</td>\n",
       "      <td>2020-11-19</td>\n",
       "      <td>7</td>\n",
       "      <td>2</td>\n",
       "      <td>9.166666</td>\n",
       "      <td>NaN</td>\n",
       "      <td>SC</td>\n",
       "      <td>True</td>\n",
       "    </tr>\n",
       "    <tr>\n",
       "      <th>3116</th>\n",
       "      <td>1742</td>\n",
       "      <td>573707726</td>\n",
       "      <td>2020-11-19</td>\n",
       "      <td>7</td>\n",
       "      <td>1</td>\n",
       "      <td>1.650000</td>\n",
       "      <td>NaN</td>\n",
       "      <td>SC</td>\n",
       "      <td>True</td>\n",
       "    </tr>\n",
       "    <tr>\n",
       "      <th>3498</th>\n",
       "      <td>1536</td>\n",
       "      <td>573707726</td>\n",
       "      <td>2020-11-06</td>\n",
       "      <td>3</td>\n",
       "      <td>1</td>\n",
       "      <td>3.666667</td>\n",
       "      <td>NaN</td>\n",
       "      <td>SC</td>\n",
       "      <td>True</td>\n",
       "    </tr>\n",
       "    <tr>\n",
       "      <th>5034</th>\n",
       "      <td>5193</td>\n",
       "      <td>550142307</td>\n",
       "      <td>2020-11-09</td>\n",
       "      <td>28</td>\n",
       "      <td>1</td>\n",
       "      <td>1.558333</td>\n",
       "      <td>NaN</td>\n",
       "      <td>SC</td>\n",
       "      <td>False</td>\n",
       "    </tr>\n",
       "    <tr>\n",
       "      <th>5282</th>\n",
       "      <td>2662</td>\n",
       "      <td>573707726</td>\n",
       "      <td>2020-11-12</td>\n",
       "      <td>5</td>\n",
       "      <td>1</td>\n",
       "      <td>2.108333</td>\n",
       "      <td>NaN</td>\n",
       "      <td>SC</td>\n",
       "      <td>False</td>\n",
       "    </tr>\n",
       "  </tbody>\n",
       "</table>\n",
       "</div>"
      ],
      "text/plain": [
       "      store_number  item_number        date  number_of_item_on_file  \\\n",
       "1653          1979    550142307  2020-11-19                       7   \n",
       "3116          1742    573707726  2020-11-19                       7   \n",
       "3498          1536    573707726  2020-11-06                       3   \n",
       "5034          5193    550142307  2020-11-09                      28   \n",
       "5282          2662    573707726  2020-11-12                       5   \n",
       "\n",
       "      cant_find_times_this_month  weekly_sales item_category store_type  \\\n",
       "1653                           2      9.166666           NaN         SC   \n",
       "3116                           1      1.650000           NaN         SC   \n",
       "3498                           1      3.666667           NaN         SC   \n",
       "5034                           1      1.558333           NaN         SC   \n",
       "5282                           1      2.108333           NaN         SC   \n",
       "\n",
       "      in_store_flag  \n",
       "1653           True  \n",
       "3116           True  \n",
       "3498           True  \n",
       "5034          False  \n",
       "5282          False  "
      ]
     },
     "execution_count": 18,
     "metadata": {},
     "output_type": "execute_result"
    }
   ],
   "source": [
    "print(missing_cat.shape)\n",
    "missing_cat.head()"
   ]
  },
  {
   "cell_type": "code",
   "execution_count": 34,
   "metadata": {},
   "outputs": [
    {
     "data": {
      "text/plain": [
       "store_number                  422\n",
       "item_number                     9\n",
       "date                           28\n",
       "number_of_item_on_file         41\n",
       "cant_find_times_this_month      8\n",
       "weekly_sales                  201\n",
       "item_category                   0\n",
       "store_type                      2\n",
       "in_store_flag                   2\n",
       "dtype: int64"
      ]
     },
     "execution_count": 34,
     "metadata": {},
     "output_type": "execute_result"
    }
   ],
   "source": [
    "missing_cat.nunique() #doesn't seem to be any pattern to missing"
   ]
  },
  {
   "cell_type": "code",
   "execution_count": 35,
   "metadata": {},
   "outputs": [
    {
     "data": {
      "text/plain": [
       "array([550142307, 573707726, 573707727,   9283885, 564167064, 551558976,\n",
       "       552070232, 554766009, 576280642], dtype=int64)"
      ]
     },
     "execution_count": 35,
     "metadata": {},
     "output_type": "execute_result"
    }
   ],
   "source": [
    "#lets explore these item numbers, does each item number correspond to unique item category?\n",
    "#if yes, we can impute them\n",
    "missing_cat['item_number'].unique()"
   ]
  },
  {
   "cell_type": "code",
   "execution_count": 43,
   "metadata": {},
   "outputs": [],
   "source": [
    "item_cat = items.groupby('item_number')['item_category'].nunique()"
   ]
  },
  {
   "cell_type": "code",
   "execution_count": 44,
   "metadata": {},
   "outputs": [
    {
     "name": "stdout",
     "output_type": "stream",
     "text": [
      "1 0\n"
     ]
    }
   ],
   "source": [
    "print(max(item_cat),min(item_cat))"
   ]
  },
  {
   "cell_type": "code",
   "execution_count": 45,
   "metadata": {},
   "outputs": [
    {
     "data": {
      "text/plain": [
       "item_number\n",
       "9283885      0\n",
       "550142307    0\n",
       "551558976    0\n",
       "552070232    0\n",
       "554766009    0\n",
       "564167064    0\n",
       "573707726    0\n",
       "573707727    0\n",
       "576280642    0\n",
       "Name: item_category, dtype: int64"
      ]
     },
     "execution_count": 45,
     "metadata": {},
     "output_type": "execute_result"
    }
   ],
   "source": [
    "item_cat[item_cat==0] #these are the same 9, they don't have any item category"
   ]
  },
  {
   "cell_type": "code",
   "execution_count": 118,
   "metadata": {},
   "outputs": [
    {
     "name": "stdout",
     "output_type": "stream",
     "text": [
      "(705731, 9)\n"
     ]
    }
   ],
   "source": [
    "#therefore we only drop missing sales\n",
    "items_upd = items[items['weekly_sales'].notna()]\n",
    "print(items_upd.shape)"
   ]
  },
  {
   "cell_type": "code",
   "execution_count": 88,
   "metadata": {},
   "outputs": [
    {
     "data": {
      "text/html": [
       "<div>\n",
       "<style scoped>\n",
       "    .dataframe tbody tr th:only-of-type {\n",
       "        vertical-align: middle;\n",
       "    }\n",
       "\n",
       "    .dataframe tbody tr th {\n",
       "        vertical-align: top;\n",
       "    }\n",
       "\n",
       "    .dataframe thead th {\n",
       "        text-align: right;\n",
       "    }\n",
       "</style>\n",
       "<table border=\"1\" class=\"dataframe\">\n",
       "  <thead>\n",
       "    <tr style=\"text-align: right;\">\n",
       "      <th></th>\n",
       "      <th>store_number</th>\n",
       "      <th>item_number</th>\n",
       "      <th>number_of_item_on_file</th>\n",
       "      <th>cant_find_times_this_month</th>\n",
       "      <th>weekly_sales</th>\n",
       "    </tr>\n",
       "  </thead>\n",
       "  <tbody>\n",
       "    <tr>\n",
       "      <th>count</th>\n",
       "      <td>705731.000000</td>\n",
       "      <td>7.057310e+05</td>\n",
       "      <td>705731.000000</td>\n",
       "      <td>705731.000000</td>\n",
       "      <td>705731.000000</td>\n",
       "    </tr>\n",
       "    <tr>\n",
       "      <th>mean</th>\n",
       "      <td>2752.044156</td>\n",
       "      <td>3.951805e+08</td>\n",
       "      <td>19.194019</td>\n",
       "      <td>1.683799</td>\n",
       "      <td>12.093208</td>\n",
       "    </tr>\n",
       "    <tr>\n",
       "      <th>std</th>\n",
       "      <td>1828.550121</td>\n",
       "      <td>2.541178e+08</td>\n",
       "      <td>90.454358</td>\n",
       "      <td>1.226827</td>\n",
       "      <td>22.589646</td>\n",
       "    </tr>\n",
       "    <tr>\n",
       "      <th>min</th>\n",
       "      <td>21.000000</td>\n",
       "      <td>4.002626e+06</td>\n",
       "      <td>1.000000</td>\n",
       "      <td>0.000000</td>\n",
       "      <td>-18.425000</td>\n",
       "    </tr>\n",
       "    <tr>\n",
       "      <th>25%</th>\n",
       "      <td>1242.000000</td>\n",
       "      <td>9.284340e+06</td>\n",
       "      <td>4.000000</td>\n",
       "      <td>1.000000</td>\n",
       "      <td>2.383333</td>\n",
       "    </tr>\n",
       "    <tr>\n",
       "      <th>50%</th>\n",
       "      <td>2448.000000</td>\n",
       "      <td>5.544956e+08</td>\n",
       "      <td>9.000000</td>\n",
       "      <td>1.000000</td>\n",
       "      <td>5.866667</td>\n",
       "    </tr>\n",
       "    <tr>\n",
       "      <th>75%</th>\n",
       "      <td>4177.000000</td>\n",
       "      <td>5.660270e+08</td>\n",
       "      <td>16.000000</td>\n",
       "      <td>2.000000</td>\n",
       "      <td>13.566666</td>\n",
       "    </tr>\n",
       "    <tr>\n",
       "      <th>max</th>\n",
       "      <td>8978.000000</td>\n",
       "      <td>5.779259e+08</td>\n",
       "      <td>30910.000000</td>\n",
       "      <td>27.000000</td>\n",
       "      <td>3899.866577</td>\n",
       "    </tr>\n",
       "  </tbody>\n",
       "</table>\n",
       "</div>"
      ],
      "text/plain": [
       "        store_number   item_number  number_of_item_on_file  \\\n",
       "count  705731.000000  7.057310e+05           705731.000000   \n",
       "mean     2752.044156  3.951805e+08               19.194019   \n",
       "std      1828.550121  2.541178e+08               90.454358   \n",
       "min        21.000000  4.002626e+06                1.000000   \n",
       "25%      1242.000000  9.284340e+06                4.000000   \n",
       "50%      2448.000000  5.544956e+08                9.000000   \n",
       "75%      4177.000000  5.660270e+08               16.000000   \n",
       "max      8978.000000  5.779259e+08            30910.000000   \n",
       "\n",
       "       cant_find_times_this_month   weekly_sales  \n",
       "count               705731.000000  705731.000000  \n",
       "mean                     1.683799      12.093208  \n",
       "std                      1.226827      22.589646  \n",
       "min                      0.000000     -18.425000  \n",
       "25%                      1.000000       2.383333  \n",
       "50%                      1.000000       5.866667  \n",
       "75%                      2.000000      13.566666  \n",
       "max                     27.000000    3899.866577  "
      ]
     },
     "execution_count": 88,
     "metadata": {},
     "output_type": "execute_result"
    }
   ],
   "source": [
    "items_upd.describe() #there may ne outliers in number_of... and negative weekly sales"
   ]
  },
  {
   "cell_type": "code",
   "execution_count": 70,
   "metadata": {},
   "outputs": [
    {
     "data": {
      "text/plain": [
       "<matplotlib.axes._subplots.AxesSubplot at 0x20e60bf0d08>"
      ]
     },
     "execution_count": 70,
     "metadata": {},
     "output_type": "execute_result"
    },
    {
     "data": {
      "image/png": "[encoded data removed]",
      "text/plain": [
       "<Figure size 432x288 with 1 Axes>"
      ]
     },
     "metadata": {
      "needs_background": "light"
     },
     "output_type": "display_data"
    }
   ],
   "source": [
    "#number_of plot\n",
    "items_upd.plot(y='number_of_item_on_file',kind='hist',bins=200)\n",
    "#75% is 16, dont see any bar even close to 5000"
   ]
  },
  {
   "cell_type": "code",
   "execution_count": 74,
   "metadata": {},
   "outputs": [
    {
     "data": {
      "text/plain": [
       "<matplotlib.axes._subplots.AxesSubplot at 0x20e5f5f1608>"
      ]
     },
     "execution_count": 74,
     "metadata": {},
     "output_type": "execute_result"
    },
    {
     "data": {
      "image/png": "[encoded data removed]",
      "text/plain": [
       "<Figure size 432x288 with 1 Axes>"
      ]
     },
     "metadata": {
      "needs_background": "light"
     },
     "output_type": "display_data"
    }
   ],
   "source": [
    "#removing above 5000 and replotting\n",
    "items_upd[items_upd['number_of_item_on_file']<5000].plot(y='number_of_item_on_file',kind='hist',bins=20)\n",
    "#looks like we can get stricter"
   ]
  },
  {
   "cell_type": "code",
   "execution_count": 76,
   "metadata": {},
   "outputs": [
    {
     "data": {
      "text/plain": [
       "<matplotlib.axes._subplots.AxesSubplot at 0x20e5f72fb08>"
      ]
     },
     "execution_count": 76,
     "metadata": {},
     "output_type": "execute_result"
    },
    {
     "data": {
      "image/png": "[encoded data removed]",
      "text/plain": [
       "<Figure size 432x288 with 1 Axes>"
      ]
     },
     "metadata": {
      "needs_background": "light"
     },
     "output_type": "display_data"
    }
   ],
   "source": [
    "items_upd[items_upd['number_of_item_on_file']<500].plot(y='number_of_item_on_file',kind='hist',bins=20)"
   ]
  },
  {
   "cell_type": "code",
   "execution_count": 90,
   "metadata": {},
   "outputs": [
    {
     "name": "stdout",
     "output_type": "stream",
     "text": [
      "0.9729854576318739\n",
      "0.9893642195114002\n",
      "0.9948663159192384\n",
      "0.9978462048570914\n",
      "0.9995026433584467\n",
      "0.9999617417968036\n"
     ]
    }
   ],
   "source": [
    "print(items_upd[items_upd['number_of_item_on_file']<100].shape[0]/items_upd.shape[0])\n",
    "print(items_upd[items_upd['number_of_item_on_file']<200].shape[0]/items_upd.shape[0])\n",
    "print(items_upd[items_upd['number_of_item_on_file']<300].shape[0]/items_upd.shape[0])\n",
    "print(items_upd[items_upd['number_of_item_on_file']<500].shape[0]/items_upd.shape[0])\n",
    "print(items_upd[items_upd['number_of_item_on_file']<1000].shape[0]/items_upd.shape[0])\n",
    "print(items_upd[items_upd['number_of_item_on_file']<5000].shape[0]/items_upd.shape[0])"
   ]
  },
  {
   "cell_type": "code",
   "execution_count": 119,
   "metadata": {},
   "outputs": [
    {
     "name": "stdout",
     "output_type": "stream",
     "text": [
      "704211\n"
     ]
    }
   ],
   "source": [
    "#without any context it is dangerous to remove, but 500 seems to be a conservative estimate\n",
    "items_upd = items_upd[items_upd['number_of_item_on_file']<500]\n",
    "print(items_upd.shape[0])"
   ]
  },
  {
   "cell_type": "code",
   "execution_count": 120,
   "metadata": {},
   "outputs": [
    {
     "data": {
      "text/plain": [
       "<matplotlib.axes._subplots.AxesSubplot at 0x20e62be2748>"
      ]
     },
     "execution_count": 120,
     "metadata": {},
     "output_type": "execute_result"
    },
    {
     "data": {
      "image/png": "[encoded data removed]",
      "text/plain": [
       "<Figure size 432x288 with 1 Axes>"
      ]
     },
     "metadata": {
      "needs_background": "light"
     },
     "output_type": "display_data"
    }
   ],
   "source": [
    "#negative sales & outliers\n",
    "items_upd.plot(y='weekly_sales',kind='hist', bins=200)"
   ]
  },
  {
   "cell_type": "code",
   "execution_count": 121,
   "metadata": {},
   "outputs": [
    {
     "name": "stdout",
     "output_type": "stream",
     "text": [
      "0.9998849776558446\n",
      "0.9999900597974186\n",
      "0.9999588191607345\n",
      "0.999693273748919\n"
     ]
    }
   ],
   "source": [
    "print(items_upd[items_upd['weekly_sales']>=0].shape[0]/items_upd.shape[0])\n",
    "print(items_upd[items_upd['weekly_sales']<1000].shape[0]/items_upd.shape[0])\n",
    "print(items_upd[items_upd['weekly_sales']<500].shape[0]/items_upd.shape[0])\n",
    "print(items_upd[items_upd['weekly_sales']<300].shape[0]/items_upd.shape[0])"
   ]
  },
  {
   "cell_type": "code",
   "execution_count": 124,
   "metadata": {},
   "outputs": [
    {
     "data": {
      "text/plain": [
       "704123"
      ]
     },
     "execution_count": 124,
     "metadata": {},
     "output_type": "execute_result"
    }
   ],
   "source": [
    "#1000 is a conservative estimate -> can be updates with context\n",
    "#removing negative sales\n",
    "items_upd=items_upd[(items_upd['weekly_sales']>=0) & (items_upd['weekly_sales']<1000)]\n",
    "items_upd.shape[0]"
   ]
  },
  {
   "cell_type": "code",
   "execution_count": 125,
   "metadata": {},
   "outputs": [
    {
     "data": {
      "text/html": [
       "<div>\n",
       "<style scoped>\n",
       "    .dataframe tbody tr th:only-of-type {\n",
       "        vertical-align: middle;\n",
       "    }\n",
       "\n",
       "    .dataframe tbody tr th {\n",
       "        vertical-align: top;\n",
       "    }\n",
       "\n",
       "    .dataframe thead th {\n",
       "        text-align: right;\n",
       "    }\n",
       "</style>\n",
       "<table border=\"1\" class=\"dataframe\">\n",
       "  <thead>\n",
       "    <tr style=\"text-align: right;\">\n",
       "      <th></th>\n",
       "      <th>store_number</th>\n",
       "      <th>item_number</th>\n",
       "      <th>number_of_item_on_file</th>\n",
       "      <th>cant_find_times_this_month</th>\n",
       "      <th>weekly_sales</th>\n",
       "    </tr>\n",
       "  </thead>\n",
       "  <tbody>\n",
       "    <tr>\n",
       "      <th>count</th>\n",
       "      <td>704123.000000</td>\n",
       "      <td>7.041230e+05</td>\n",
       "      <td>704123.000000</td>\n",
       "      <td>704123.000000</td>\n",
       "      <td>704123.000000</td>\n",
       "    </tr>\n",
       "    <tr>\n",
       "      <th>mean</th>\n",
       "      <td>2752.655153</td>\n",
       "      <td>3.956604e+08</td>\n",
       "      <td>17.074584</td>\n",
       "      <td>1.681395</td>\n",
       "      <td>11.884395</td>\n",
       "    </tr>\n",
       "    <tr>\n",
       "      <th>std</th>\n",
       "      <td>1828.735047</td>\n",
       "      <td>2.539098e+08</td>\n",
       "      <td>33.949123</td>\n",
       "      <td>1.222271</td>\n",
       "      <td>19.864074</td>\n",
       "    </tr>\n",
       "    <tr>\n",
       "      <th>min</th>\n",
       "      <td>21.000000</td>\n",
       "      <td>4.002626e+06</td>\n",
       "      <td>1.000000</td>\n",
       "      <td>0.000000</td>\n",
       "      <td>-0.000000</td>\n",
       "    </tr>\n",
       "    <tr>\n",
       "      <th>25%</th>\n",
       "      <td>1242.000000</td>\n",
       "      <td>9.284424e+06</td>\n",
       "      <td>4.000000</td>\n",
       "      <td>1.000000</td>\n",
       "      <td>2.383333</td>\n",
       "    </tr>\n",
       "    <tr>\n",
       "      <th>50%</th>\n",
       "      <td>2449.000000</td>\n",
       "      <td>5.545153e+08</td>\n",
       "      <td>9.000000</td>\n",
       "      <td>1.000000</td>\n",
       "      <td>5.866667</td>\n",
       "    </tr>\n",
       "    <tr>\n",
       "      <th>75%</th>\n",
       "      <td>4179.000000</td>\n",
       "      <td>5.660270e+08</td>\n",
       "      <td>16.000000</td>\n",
       "      <td>2.000000</td>\n",
       "      <td>13.475000</td>\n",
       "    </tr>\n",
       "    <tr>\n",
       "      <th>max</th>\n",
       "      <td>8978.000000</td>\n",
       "      <td>5.779259e+08</td>\n",
       "      <td>499.000000</td>\n",
       "      <td>27.000000</td>\n",
       "      <td>906.858356</td>\n",
       "    </tr>\n",
       "  </tbody>\n",
       "</table>\n",
       "</div>"
      ],
      "text/plain": [
       "        store_number   item_number  number_of_item_on_file  \\\n",
       "count  704123.000000  7.041230e+05           704123.000000   \n",
       "mean     2752.655153  3.956604e+08               17.074584   \n",
       "std      1828.735047  2.539098e+08               33.949123   \n",
       "min        21.000000  4.002626e+06                1.000000   \n",
       "25%      1242.000000  9.284424e+06                4.000000   \n",
       "50%      2449.000000  5.545153e+08                9.000000   \n",
       "75%      4179.000000  5.660270e+08               16.000000   \n",
       "max      8978.000000  5.779259e+08              499.000000   \n",
       "\n",
       "       cant_find_times_this_month   weekly_sales  \n",
       "count               704123.000000  704123.000000  \n",
       "mean                     1.681395      11.884395  \n",
       "std                      1.222271      19.864074  \n",
       "min                      0.000000      -0.000000  \n",
       "25%                      1.000000       2.383333  \n",
       "50%                      1.000000       5.866667  \n",
       "75%                      2.000000      13.475000  \n",
       "max                     27.000000     906.858356  "
      ]
     },
     "execution_count": 125,
     "metadata": {},
     "output_type": "execute_result"
    }
   ],
   "source": [
    "items_upd.describe()"
   ]
  },
  {
   "cell_type": "markdown",
   "metadata": {},
   "source": [
    "Data cleaning is now completed\n",
    "Next Step: understanding response variable"
   ]
  },
  {
   "cell_type": "code",
   "execution_count": 128,
   "metadata": {},
   "outputs": [
    {
     "name": "stdout",
     "output_type": "stream",
     "text": [
      "count     704123\n",
      "unique         2\n",
      "top         True\n",
      "freq      460642\n",
      "Name: in_store_flag, dtype: object\n"
     ]
    },
    {
     "data": {
      "text/plain": [
       "True     460642\n",
       "False    243481\n",
       "Name: in_store_flag, dtype: int64"
      ]
     },
     "execution_count": 128,
     "metadata": {},
     "output_type": "execute_result"
    }
   ],
   "source": [
    "items_upd['in_store_flag'].value_counts() #no issue of class imbalance"
   ]
  },
  {
   "cell_type": "code",
   "execution_count": 134,
   "metadata": {},
   "outputs": [
    {
     "data": {
      "text/plain": [
       "0.6542067224050343"
      ]
     },
     "execution_count": 134,
     "metadata": {},
     "output_type": "execute_result"
    }
   ],
   "source": [
    "items_upd[items_upd['in_store_flag']==True].shape[0] / items_upd.shape[0]\n",
    "#65% of items were still in store, although associate could not find them"
   ]
  },
  {
   "cell_type": "code",
   "execution_count": 138,
   "metadata": {},
   "outputs": [
    {
     "data": {
      "text/plain": [
       "2020-11-29      3429\n",
       "2020-11-30      5753\n",
       "2020-11-01      7486\n",
       "2020-11-03     10228\n",
       "2020-11-24     10244\n",
       "2020-11-14     10716\n",
       "2020-11-21     11144\n",
       "2020-11-02     11271\n",
       "2020-11-07     11277\n",
       "2020-11-11     11573\n",
       "2020-11-28     11982\n",
       "2020-11-25     12048\n",
       "2020-11-18     12507\n",
       "2020-11-23     12720\n",
       "2020-11-22     12743\n",
       "2020-11-08     12905\n",
       "2020-11-27     13021\n",
       "2020-11-04     13736\n",
       "2020-11-15     13738\n",
       "2020-11-13     13926\n",
       "2020-11-09     14386\n",
       "2020-11-06     14420\n",
       "2020-11-20     14494\n",
       "2020-11-16     15210\n",
       "2020-11-17     21882\n",
       "2020-11-26     78804\n",
       "2020-11-12    105573\n",
       "2020-11-19    105683\n",
       "2020-11-05    111224\n",
       "Name: date, dtype: int64"
      ]
     },
     "execution_count": 138,
     "metadata": {},
     "output_type": "execute_result"
    }
   ],
   "source": [
    "#next lets explore the predictor variables\n",
    "#1: date\n",
    "items_upd['date'].value_counts().sort_values() \n",
    "#needs to be converted to date time format"
   ]
  },
  {
   "cell_type": "code",
   "execution_count": 142,
   "metadata": {},
   "outputs": [],
   "source": [
    "items_upd['date'] = pd.to_datetime(items_upd['date'])"
   ]
  },
  {
   "cell_type": "code",
   "execution_count": 146,
   "metadata": {},
   "outputs": [
    {
     "data": {
      "text/plain": [
       "date\n",
       "2020-11-01      7486\n",
       "2020-11-02     11271\n",
       "2020-11-03     10228\n",
       "2020-11-04     13736\n",
       "2020-11-05    111224\n",
       "2020-11-06     14420\n",
       "2020-11-07     11277\n",
       "2020-11-08     12905\n",
       "2020-11-09     14386\n",
       "2020-11-11     11573\n",
       "2020-11-12    105573\n",
       "2020-11-13     13926\n",
       "2020-11-14     10716\n",
       "2020-11-15     13738\n",
       "2020-11-16     15210\n",
       "2020-11-17     21882\n",
       "2020-11-18     12507\n",
       "2020-11-19    105683\n",
       "2020-11-20     14494\n",
       "2020-11-21     11144\n",
       "2020-11-22     12743\n",
       "2020-11-23     12720\n",
       "2020-11-24     10244\n",
       "2020-11-25     12048\n",
       "2020-11-26     78804\n",
       "2020-11-27     13021\n",
       "2020-11-28     11982\n",
       "2020-11-29      3429\n",
       "2020-11-30      5753\n",
       "Name: date, dtype: int64"
      ]
     },
     "execution_count": 146,
     "metadata": {},
     "output_type": "execute_result"
    }
   ],
   "source": [
    "items_upd.groupby('date')['date'].count() #nov 10th missing, which is a Tuesday"
   ]
  },
  {
   "cell_type": "code",
   "execution_count": 155,
   "metadata": {},
   "outputs": [
    {
     "data": {
      "text/plain": [
       "date        in_store_flag\n",
       "2020-11-01  False             2663\n",
       "            True              4823\n",
       "2020-11-02  False             3846\n",
       "            True              7425\n",
       "2020-11-03  False             3451\n",
       "            True              6777\n",
       "2020-11-04  False             4382\n",
       "            True              9354\n",
       "2020-11-05  False            34181\n",
       "            True             77043\n",
       "2020-11-06  False             5070\n",
       "            True              9350\n",
       "2020-11-07  False             4167\n",
       "            True              7110\n",
       "2020-11-08  False             4730\n",
       "            True              8175\n",
       "2020-11-09  False             5352\n",
       "            True              9034\n",
       "2020-11-11  False             3922\n",
       "            True              7651\n",
       "2020-11-12  False            33794\n",
       "            True             71779\n",
       "2020-11-13  False             5214\n",
       "            True              8712\n",
       "2020-11-14  False             4126\n",
       "            True              6590\n",
       "2020-11-15  False             5343\n",
       "            True              8395\n",
       "2020-11-16  False             6045\n",
       "            True              9165\n",
       "2020-11-17  False             8494\n",
       "            True             13388\n",
       "2020-11-18  False             4613\n",
       "            True              7894\n",
       "2020-11-19  False            35190\n",
       "            True             70493\n",
       "2020-11-20  False             5774\n",
       "            True              8720\n",
       "2020-11-21  False             4268\n",
       "            True              6876\n",
       "2020-11-22  False             5045\n",
       "            True              7698\n",
       "2020-11-23  False             4889\n",
       "            True              7831\n",
       "2020-11-24  False             3730\n",
       "            True              6514\n",
       "2020-11-25  False             4223\n",
       "            True              7825\n",
       "2020-11-26  False            26725\n",
       "            True             52079\n",
       "2020-11-27  False             4984\n",
       "            True              8037\n",
       "2020-11-28  False             4742\n",
       "            True              7240\n",
       "2020-11-29  False             1500\n",
       "            True              1929\n",
       "2020-11-30  False             3018\n",
       "            True              2735\n",
       "Name: date, dtype: int64"
      ]
     },
     "execution_count": 155,
     "metadata": {},
     "output_type": "execute_result"
    }
   ],
   "source": [
    "#date, instore flag \n",
    "date_store_counts = items_upd.groupby(['date','in_store_flag'])['date'].count()\n",
    "date_store_counts # nothing too concerning, however thursday are higher volume -> add that in feature engineering"
   ]
  },
  {
   "cell_type": "code",
   "execution_count": 179,
   "metadata": {},
   "outputs": [
    {
     "data": {
      "text/html": [
       "<div>\n",
       "<style scoped>\n",
       "    .dataframe tbody tr th:only-of-type {\n",
       "        vertical-align: middle;\n",
       "    }\n",
       "\n",
       "    .dataframe tbody tr th {\n",
       "        vertical-align: top;\n",
       "    }\n",
       "\n",
       "    .dataframe thead th {\n",
       "        text-align: right;\n",
       "    }\n",
       "</style>\n",
       "<table border=\"1\" class=\"dataframe\">\n",
       "  <thead>\n",
       "    <tr style=\"text-align: right;\">\n",
       "      <th></th>\n",
       "      <th>store_number</th>\n",
       "      <th>item_number</th>\n",
       "      <th>date</th>\n",
       "      <th>number_of_item_on_file</th>\n",
       "      <th>cant_find_times_this_month</th>\n",
       "      <th>weekly_sales</th>\n",
       "      <th>item_category</th>\n",
       "      <th>store_type</th>\n",
       "      <th>in_store_flag</th>\n",
       "    </tr>\n",
       "  </thead>\n",
       "  <tbody>\n",
       "    <tr>\n",
       "      <th>0</th>\n",
       "      <td>1911</td>\n",
       "      <td>9224620</td>\n",
       "      <td>2020-11-24</td>\n",
       "      <td>28</td>\n",
       "      <td>2</td>\n",
       "      <td>40.791665</td>\n",
       "      <td>BAG PASTA</td>\n",
       "      <td>SC</td>\n",
       "      <td>True</td>\n",
       "    </tr>\n",
       "    <tr>\n",
       "      <th>1</th>\n",
       "      <td>148</td>\n",
       "      <td>563046559</td>\n",
       "      <td>2020-11-12</td>\n",
       "      <td>7</td>\n",
       "      <td>1</td>\n",
       "      <td>0.458333</td>\n",
       "      <td>BAKING MIXES</td>\n",
       "      <td>SC</td>\n",
       "      <td>False</td>\n",
       "    </tr>\n",
       "    <tr>\n",
       "      <th>2</th>\n",
       "      <td>1052</td>\n",
       "      <td>555089121</td>\n",
       "      <td>2020-11-12</td>\n",
       "      <td>11</td>\n",
       "      <td>1</td>\n",
       "      <td>10.633334</td>\n",
       "      <td>COLD CEREAL</td>\n",
       "      <td>SC</td>\n",
       "      <td>True</td>\n",
       "    </tr>\n",
       "    <tr>\n",
       "      <th>3</th>\n",
       "      <td>3317</td>\n",
       "      <td>565914006</td>\n",
       "      <td>2020-11-18</td>\n",
       "      <td>16</td>\n",
       "      <td>5</td>\n",
       "      <td>23.283333</td>\n",
       "      <td>SUGAR</td>\n",
       "      <td>SC</td>\n",
       "      <td>True</td>\n",
       "    </tr>\n",
       "    <tr>\n",
       "      <th>4</th>\n",
       "      <td>2465</td>\n",
       "      <td>563007859</td>\n",
       "      <td>2020-11-19</td>\n",
       "      <td>14</td>\n",
       "      <td>2</td>\n",
       "      <td>4.216667</td>\n",
       "      <td>BAKING MIXES</td>\n",
       "      <td>SC</td>\n",
       "      <td>True</td>\n",
       "    </tr>\n",
       "  </tbody>\n",
       "</table>\n",
       "</div>"
      ],
      "text/plain": [
       "   store_number  item_number       date  number_of_item_on_file  \\\n",
       "0          1911      9224620 2020-11-24                      28   \n",
       "1           148    563046559 2020-11-12                       7   \n",
       "2          1052    555089121 2020-11-12                      11   \n",
       "3          3317    565914006 2020-11-18                      16   \n",
       "4          2465    563007859 2020-11-19                      14   \n",
       "\n",
       "   cant_find_times_this_month  weekly_sales item_category store_type  \\\n",
       "0                           2     40.791665     BAG PASTA         SC   \n",
       "1                           1      0.458333  BAKING MIXES         SC   \n",
       "2                           1     10.633334   COLD CEREAL         SC   \n",
       "3                           5     23.283333         SUGAR         SC   \n",
       "4                           2      4.216667  BAKING MIXES         SC   \n",
       "\n",
       "   in_store_flag  \n",
       "0           True  \n",
       "1          False  \n",
       "2           True  \n",
       "3           True  \n",
       "4           True  "
      ]
     },
     "execution_count": 179,
     "metadata": {},
     "output_type": "execute_result"
    }
   ],
   "source": [
    "items_upd"
   ]
  }
 ],
 "metadata": {
  "kernelspec": {
   "display_name": "Python 3",
   "language": "python",
   "name": "python3"
  },
  "language_info": {
   "codemirror_mode": {
    "name": "ipython",
    "version": 3
   },
   "file_extension": ".py",
   "mimetype": "text/x-python",
   "name": "python",
   "nbconvert_exporter": "python",
   "pygments_lexer": "ipython3",
   "version": "3.7.6"
  }
 },
 "nbformat": 4,
 "nbformat_minor": 4
}
