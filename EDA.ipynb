{
 "cells": [
  {
   "cell_type": "code",
   "execution_count": 1,
   "metadata": {},
   "outputs": [],
   "source": [
    "import pandas as pd\n",
    "import numpy as np\n",
    "import matplotlib.pyplot as plt"
   ]
  },
  {
   "cell_type": "markdown",
   "metadata": {},
   "source": [
    "Reading in the data "
   ]
  },
  {
   "cell_type": "code",
   "execution_count": 3,
   "metadata": {},
   "outputs": [],
   "source": [
    "items = pd.read_csv('data.csv')"
   ]
  },
  {
   "cell_type": "code",
   "execution_count": 14,
   "metadata": {},
   "outputs": [
    {
     "name": "stdout",
     "output_type": "stream",
     "text": [
      "(705857, 9)\n"
     ]
    },
    {
     "data": {
      "text/html": [
       "<div>\n",
       "<style scoped>\n",
       "    .dataframe tbody tr th:only-of-type {\n",
       "        vertical-align: middle;\n",
       "    }\n",
       "\n",
       "    .dataframe tbody tr th {\n",
       "        vertical-align: top;\n",
       "    }\n",
       "\n",
       "    .dataframe thead th {\n",
       "        text-align: right;\n",
       "    }\n",
       "</style>\n",
       "<table border=\"1\" class=\"dataframe\">\n",
       "  <thead>\n",
       "    <tr style=\"text-align: right;\">\n",
       "      <th></th>\n",
       "      <th>store_number</th>\n",
       "      <th>item_number</th>\n",
       "      <th>date</th>\n",
       "      <th>number_of_item_on_file</th>\n",
       "      <th>cant_find_times_this_month</th>\n",
       "      <th>weekly_sales</th>\n",
       "      <th>item_category</th>\n",
       "      <th>store_type</th>\n",
       "      <th>in_store_flag</th>\n",
       "    </tr>\n",
       "  </thead>\n",
       "  <tbody>\n",
       "    <tr>\n",
       "      <th>0</th>\n",
       "      <td>1911</td>\n",
       "      <td>9224620</td>\n",
       "      <td>2020-11-24</td>\n",
       "      <td>28</td>\n",
       "      <td>2</td>\n",
       "      <td>40.791665</td>\n",
       "      <td>BAG PASTA</td>\n",
       "      <td>SC</td>\n",
       "      <td>True</td>\n",
       "    </tr>\n",
       "    <tr>\n",
       "      <th>1</th>\n",
       "      <td>148</td>\n",
       "      <td>563046559</td>\n",
       "      <td>2020-11-12</td>\n",
       "      <td>7</td>\n",
       "      <td>1</td>\n",
       "      <td>0.458333</td>\n",
       "      <td>BAKING MIXES</td>\n",
       "      <td>SC</td>\n",
       "      <td>False</td>\n",
       "    </tr>\n",
       "    <tr>\n",
       "      <th>2</th>\n",
       "      <td>1052</td>\n",
       "      <td>555089121</td>\n",
       "      <td>2020-11-12</td>\n",
       "      <td>11</td>\n",
       "      <td>1</td>\n",
       "      <td>10.633334</td>\n",
       "      <td>COLD CEREAL</td>\n",
       "      <td>SC</td>\n",
       "      <td>True</td>\n",
       "    </tr>\n",
       "    <tr>\n",
       "      <th>3</th>\n",
       "      <td>3317</td>\n",
       "      <td>565914006</td>\n",
       "      <td>2020-11-18</td>\n",
       "      <td>16</td>\n",
       "      <td>5</td>\n",
       "      <td>23.283333</td>\n",
       "      <td>SUGAR</td>\n",
       "      <td>SC</td>\n",
       "      <td>True</td>\n",
       "    </tr>\n",
       "    <tr>\n",
       "      <th>4</th>\n",
       "      <td>2465</td>\n",
       "      <td>563007859</td>\n",
       "      <td>2020-11-19</td>\n",
       "      <td>14</td>\n",
       "      <td>2</td>\n",
       "      <td>4.216667</td>\n",
       "      <td>BAKING MIXES</td>\n",
       "      <td>SC</td>\n",
       "      <td>True</td>\n",
       "    </tr>\n",
       "  </tbody>\n",
       "</table>\n",
       "</div>"
      ],
      "text/plain": [
       "   store_number  item_number        date  number_of_item_on_file  \\\n",
       "0          1911      9224620  2020-11-24                      28   \n",
       "1           148    563046559  2020-11-12                       7   \n",
       "2          1052    555089121  2020-11-12                      11   \n",
       "3          3317    565914006  2020-11-18                      16   \n",
       "4          2465    563007859  2020-11-19                      14   \n",
       "\n",
       "   cant_find_times_this_month  weekly_sales item_category store_type  \\\n",
       "0                           2     40.791665     BAG PASTA         SC   \n",
       "1                           1      0.458333  BAKING MIXES         SC   \n",
       "2                           1     10.633334   COLD CEREAL         SC   \n",
       "3                           5     23.283333         SUGAR         SC   \n",
       "4                           2      4.216667  BAKING MIXES         SC   \n",
       "\n",
       "   in_store_flag  \n",
       "0           True  \n",
       "1          False  \n",
       "2           True  \n",
       "3           True  \n",
       "4           True  "
      ]
     },
     "execution_count": 14,
     "metadata": {},
     "output_type": "execute_result"
    }
   ],
   "source": [
    "print(items.shape)\n",
    "items.head()"
   ]
  },
  {
   "cell_type": "code",
   "execution_count": 22,
   "metadata": {},
   "outputs": [
    {
     "data": {
      "text/plain": [
       "store_number                    int64\n",
       "item_number                     int64\n",
       "date                           object\n",
       "number_of_item_on_file          int64\n",
       "cant_find_times_this_month      int64\n",
       "weekly_sales                  float64\n",
       "item_category                  object\n",
       "store_type                     object\n",
       "in_store_flag                    bool\n",
       "dtype: object"
      ]
     },
     "execution_count": 22,
     "metadata": {},
     "output_type": "execute_result"
    }
   ],
   "source": [
    "#column types\n",
    "items.dtypes"
   ]
  },
  {
   "cell_type": "code",
   "execution_count": 23,
   "metadata": {},
   "outputs": [
    {
     "data": {
      "text/plain": [
       "store_number                   4229\n",
       "item_number                   17182\n",
       "date                             29\n",
       "number_of_item_on_file         1169\n",
       "cant_find_times_this_month       26\n",
       "weekly_sales                   2898\n",
       "item_category                    68\n",
       "store_type                        2\n",
       "in_store_flag                     2\n",
       "dtype: int64"
      ]
     },
     "execution_count": 23,
     "metadata": {},
     "output_type": "execute_result"
    }
   ],
   "source": [
    "#unique values per column\n",
    "items.nunique()"
   ]
  },
  {
   "cell_type": "code",
   "execution_count": 30,
   "metadata": {},
   "outputs": [
    {
     "data": {
      "text/plain": [
       "store_number                    0\n",
       "item_number                     0\n",
       "date                            0\n",
       "number_of_item_on_file          0\n",
       "cant_find_times_this_month      0\n",
       "weekly_sales                  126\n",
       "item_category                 470\n",
       "store_type                      0\n",
       "in_store_flag                   0\n",
       "dtype: int64"
      ]
     },
     "execution_count": 30,
     "metadata": {},
     "output_type": "execute_result"
    }
   ],
   "source": [
    "#Looking for missing data\n",
    "items.isnull().sum()"
   ]
  },
  {
   "cell_type": "code",
   "execution_count": null,
   "metadata": {},
   "outputs": [],
   "source": [
    "#126 missing weekly sales, 470 missing item_category"
   ]
  },
  {
   "cell_type": "code",
   "execution_count": null,
   "metadata": {},
   "outputs": [],
   "source": [
    "#exploring missing weekly sales"
   ]
  },
  {
   "cell_type": "code",
   "execution_count": 46,
   "metadata": {},
   "outputs": [],
   "source": [
    "missing_sales = items[items['weekly_sales'].isnull()]"
   ]
  },
  {
   "cell_type": "code",
   "execution_count": 49,
   "metadata": {},
   "outputs": [
    {
     "name": "stdout",
     "output_type": "stream",
     "text": [
      "(126, 9)\n",
      "store_number                  123\n",
      "item_number                   102\n",
      "date                           24\n",
      "number_of_item_on_file         39\n",
      "cant_find_times_this_month      5\n",
      "weekly_sales                    0\n",
      "item_category                   1\n",
      "store_type                      2\n",
      "in_store_flag                   2\n",
      "dtype: int64\n"
     ]
    }
   ],
   "source": [
    "print(missing_sales.shape) #126 rows\n",
    "print(missing_sales.nunique()) #only 1 item category"
   ]
  },
  {
   "cell_type": "code",
   "execution_count": 50,
   "metadata": {},
   "outputs": [
    {
     "data": {
      "text/html": [
       "<div>\n",
       "<style scoped>\n",
       "    .dataframe tbody tr th:only-of-type {\n",
       "        vertical-align: middle;\n",
       "    }\n",
       "\n",
       "    .dataframe tbody tr th {\n",
       "        vertical-align: top;\n",
       "    }\n",
       "\n",
       "    .dataframe thead th {\n",
       "        text-align: right;\n",
       "    }\n",
       "</style>\n",
       "<table border=\"1\" class=\"dataframe\">\n",
       "  <thead>\n",
       "    <tr style=\"text-align: right;\">\n",
       "      <th></th>\n",
       "      <th>store_number</th>\n",
       "      <th>item_number</th>\n",
       "      <th>date</th>\n",
       "      <th>number_of_item_on_file</th>\n",
       "      <th>cant_find_times_this_month</th>\n",
       "      <th>weekly_sales</th>\n",
       "      <th>item_category</th>\n",
       "      <th>store_type</th>\n",
       "      <th>in_store_flag</th>\n",
       "    </tr>\n",
       "  </thead>\n",
       "  <tbody>\n",
       "    <tr>\n",
       "      <th>13788</th>\n",
       "      <td>1181</td>\n",
       "      <td>550431572</td>\n",
       "      <td>2020-11-27</td>\n",
       "      <td>14</td>\n",
       "      <td>3</td>\n",
       "      <td>NaN</td>\n",
       "      <td>BAKING MIXES</td>\n",
       "      <td>SC</td>\n",
       "      <td>True</td>\n",
       "    </tr>\n",
       "    <tr>\n",
       "      <th>17640</th>\n",
       "      <td>1959</td>\n",
       "      <td>567146575</td>\n",
       "      <td>2020-11-05</td>\n",
       "      <td>7</td>\n",
       "      <td>1</td>\n",
       "      <td>NaN</td>\n",
       "      <td>BAKING MIXES</td>\n",
       "      <td>SC</td>\n",
       "      <td>True</td>\n",
       "    </tr>\n",
       "    <tr>\n",
       "      <th>33086</th>\n",
       "      <td>651</td>\n",
       "      <td>573175295</td>\n",
       "      <td>2020-11-05</td>\n",
       "      <td>12</td>\n",
       "      <td>1</td>\n",
       "      <td>NaN</td>\n",
       "      <td>BAKING MIXES</td>\n",
       "      <td>SC</td>\n",
       "      <td>False</td>\n",
       "    </tr>\n",
       "    <tr>\n",
       "      <th>36101</th>\n",
       "      <td>1057</td>\n",
       "      <td>563008158</td>\n",
       "      <td>2020-11-22</td>\n",
       "      <td>2</td>\n",
       "      <td>1</td>\n",
       "      <td>NaN</td>\n",
       "      <td>BAKING MIXES</td>\n",
       "      <td>SC</td>\n",
       "      <td>True</td>\n",
       "    </tr>\n",
       "    <tr>\n",
       "      <th>42023</th>\n",
       "      <td>3591</td>\n",
       "      <td>563008129</td>\n",
       "      <td>2020-11-05</td>\n",
       "      <td>34</td>\n",
       "      <td>1</td>\n",
       "      <td>NaN</td>\n",
       "      <td>BAKING MIXES</td>\n",
       "      <td>SC</td>\n",
       "      <td>True</td>\n",
       "    </tr>\n",
       "  </tbody>\n",
       "</table>\n",
       "</div>"
      ],
      "text/plain": [
       "       store_number  item_number        date  number_of_item_on_file  \\\n",
       "13788          1181    550431572  2020-11-27                      14   \n",
       "17640          1959    567146575  2020-11-05                       7   \n",
       "33086           651    573175295  2020-11-05                      12   \n",
       "36101          1057    563008158  2020-11-22                       2   \n",
       "42023          3591    563008129  2020-11-05                      34   \n",
       "\n",
       "       cant_find_times_this_month  weekly_sales item_category store_type  \\\n",
       "13788                           3           NaN  BAKING MIXES         SC   \n",
       "17640                           1           NaN  BAKING MIXES         SC   \n",
       "33086                           1           NaN  BAKING MIXES         SC   \n",
       "36101                           1           NaN  BAKING MIXES         SC   \n",
       "42023                           1           NaN  BAKING MIXES         SC   \n",
       "\n",
       "       in_store_flag  \n",
       "13788           True  \n",
       "17640           True  \n",
       "33086          False  \n",
       "36101           True  \n",
       "42023           True  "
      ]
     },
     "execution_count": 50,
     "metadata": {},
     "output_type": "execute_result"
    }
   ],
   "source": [
    "missing_sales.head() #baking mixes"
   ]
  },
  {
   "cell_type": "code",
   "execution_count": 63,
   "metadata": {},
   "outputs": [
    {
     "data": {
      "text/plain": [
       "6.492959966774902"
      ]
     },
     "execution_count": 63,
     "metadata": {},
     "output_type": "execute_result"
    }
   ],
   "source": [
    "#avg of baking mixes weekly sales\n",
    "baking = items[items['item_category']=='BAKING MIXES']\n",
    "baking['weekly_sales'].mean()"
   ]
  },
  {
   "cell_type": "code",
   "execution_count": 66,
   "metadata": {},
   "outputs": [
    {
     "data": {
      "text/html": [
       "<div>\n",
       "<style scoped>\n",
       "    .dataframe tbody tr th:only-of-type {\n",
       "        vertical-align: middle;\n",
       "    }\n",
       "\n",
       "    .dataframe tbody tr th {\n",
       "        vertical-align: top;\n",
       "    }\n",
       "\n",
       "    .dataframe thead th {\n",
       "        text-align: right;\n",
       "    }\n",
       "</style>\n",
       "<table border=\"1\" class=\"dataframe\">\n",
       "  <thead>\n",
       "    <tr style=\"text-align: right;\">\n",
       "      <th></th>\n",
       "      <th>store_number</th>\n",
       "      <th>item_number</th>\n",
       "      <th>number_of_item_on_file</th>\n",
       "      <th>cant_find_times_this_month</th>\n",
       "      <th>weekly_sales</th>\n",
       "    </tr>\n",
       "  </thead>\n",
       "  <tbody>\n",
       "    <tr>\n",
       "      <th>count</th>\n",
       "      <td>32891.000000</td>\n",
       "      <td>3.289100e+04</td>\n",
       "      <td>32891.000000</td>\n",
       "      <td>32891.000000</td>\n",
       "      <td>32765.000000</td>\n",
       "    </tr>\n",
       "    <tr>\n",
       "      <th>mean</th>\n",
       "      <td>2702.520781</td>\n",
       "      <td>4.287716e+08</td>\n",
       "      <td>14.520021</td>\n",
       "      <td>1.550455</td>\n",
       "      <td>6.492960</td>\n",
       "    </tr>\n",
       "    <tr>\n",
       "      <th>std</th>\n",
       "      <td>1832.267577</td>\n",
       "      <td>2.379665e+08</td>\n",
       "      <td>26.325831</td>\n",
       "      <td>1.063148</td>\n",
       "      <td>10.440261</td>\n",
       "    </tr>\n",
       "    <tr>\n",
       "      <th>min</th>\n",
       "      <td>21.000000</td>\n",
       "      <td>9.204290e+06</td>\n",
       "      <td>1.000000</td>\n",
       "      <td>0.000000</td>\n",
       "      <td>-0.183333</td>\n",
       "    </tr>\n",
       "    <tr>\n",
       "      <th>25%</th>\n",
       "      <td>1196.000000</td>\n",
       "      <td>5.502136e+08</td>\n",
       "      <td>4.000000</td>\n",
       "      <td>1.000000</td>\n",
       "      <td>1.100000</td>\n",
       "    </tr>\n",
       "    <tr>\n",
       "      <th>50%</th>\n",
       "      <td>2342.000000</td>\n",
       "      <td>5.630079e+08</td>\n",
       "      <td>8.000000</td>\n",
       "      <td>1.000000</td>\n",
       "      <td>2.841667</td>\n",
       "    </tr>\n",
       "    <tr>\n",
       "      <th>75%</th>\n",
       "      <td>4077.000000</td>\n",
       "      <td>5.660463e+08</td>\n",
       "      <td>15.000000</td>\n",
       "      <td>2.000000</td>\n",
       "      <td>7.883333</td>\n",
       "    </tr>\n",
       "    <tr>\n",
       "      <th>max</th>\n",
       "      <td>8978.000000</td>\n",
       "      <td>5.769039e+08</td>\n",
       "      <td>1188.000000</td>\n",
       "      <td>26.000000</td>\n",
       "      <td>256.575000</td>\n",
       "    </tr>\n",
       "  </tbody>\n",
       "</table>\n",
       "</div>"
      ],
      "text/plain": [
       "       store_number   item_number  number_of_item_on_file  \\\n",
       "count  32891.000000  3.289100e+04            32891.000000   \n",
       "mean    2702.520781  4.287716e+08               14.520021   \n",
       "std     1832.267577  2.379665e+08               26.325831   \n",
       "min       21.000000  9.204290e+06                1.000000   \n",
       "25%     1196.000000  5.502136e+08                4.000000   \n",
       "50%     2342.000000  5.630079e+08                8.000000   \n",
       "75%     4077.000000  5.660463e+08               15.000000   \n",
       "max     8978.000000  5.769039e+08             1188.000000   \n",
       "\n",
       "       cant_find_times_this_month  weekly_sales  \n",
       "count                32891.000000  32765.000000  \n",
       "mean                     1.550455      6.492960  \n",
       "std                      1.063148     10.440261  \n",
       "min                      0.000000     -0.183333  \n",
       "25%                      1.000000      1.100000  \n",
       "50%                      1.000000      2.841667  \n",
       "75%                      2.000000      7.883333  \n",
       "max                     26.000000    256.575000  "
      ]
     },
     "execution_count": 66,
     "metadata": {},
     "output_type": "execute_result"
    }
   ],
   "source": [
    "baking.describe()"
   ]
  },
  {
   "cell_type": "code",
   "execution_count": 64,
   "metadata": {},
   "outputs": [
    {
     "data": {
      "text/plain": [
       "<matplotlib.axes._subplots.AxesSubplot at 0x1f1e4107748>"
      ]
     },
     "execution_count": 64,
     "metadata": {},
     "output_type": "execute_result"
    },
    {
     "data": {
      "image/png": "[encoded data removed]",
      "text/plain": [
       "<Figure size 432x288 with 1 Axes>"
      ]
     },
     "metadata": {
      "needs_background": "light"
     },
     "output_type": "display_data"
    }
   ],
   "source": [
    "#lets look at histogram of these sales\n",
    "baking.plot(y='weekly_sales',kind='hist')"
   ]
  }
 ],
 "metadata": {
  "kernelspec": {
   "display_name": "Python 3",
   "language": "python",
   "name": "python3"
  },
  "language_info": {
   "codemirror_mode": {
    "name": "ipython",
    "version": 3
   },
   "file_extension": ".py",
   "mimetype": "text/x-python",
   "name": "python",
   "nbconvert_exporter": "python",
   "pygments_lexer": "ipython3",
   "version": "3.7.6"
  }
 },
 "nbformat": 4,
 "nbformat_minor": 4
}
